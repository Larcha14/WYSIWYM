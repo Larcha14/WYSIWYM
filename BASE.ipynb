{
 "cells": [
  {
   "cell_type": "code",
   "execution_count": 1,
   "id": "a08864f8",
   "metadata": {},
   "outputs": [],
   "source": [
    "import time\n",
    "import pandas as pd\n",
    "from sklearn.svm import SVR\n",
    "from sklearn.linear_model import ElasticNet\n",
    "from sklearn.metrics import mean_squared_error, mean_absolute_error, r2_score, mean_absolute_percentage_error\n",
    "import numpy as np\n",
    "from sklearn.preprocessing import StandardScaler\n",
    "from joblib import dump,load\n",
    "from sklearn.model_selection import train_test_split\n",
    "from sklearn.model_selection import GridSearchCV\n",
    "from sklearn.linear_model import Ridge"
   ]
  },
  {
   "cell_type": "markdown",
   "id": "143201d8",
   "metadata": {},
   "source": [
    "# ОПИСАНИЕ \n",
    "\n",
    "## итак были добавлены методы get_train_dataset , get_dataset, percent_missing, clear_data . Были изменены все остальные этот ноубук по сути шаблон для нашей дальнейшей работы , обьясню на пальцах что тут к чему:\n",
    "\n",
    "## Все что не автоматизировано это загрузка данных собственоо загружаем x_train y_train (нам потребуются для обучения) далее в методах класса get_train_dataset и clear_data предусмотрена их обработка не для частых случаев конечно но в целом сойдет для большинтсва get_train_dataset используется только один раз при обучении merge их и тп все предусмотрено в этих двух методах \n",
    "\n",
    "## МЕТОД GET_DATASET подключен к predict так что при загрузке новых данных мы просто посылаем их туда и там все обрабатывается и выдаются predict-ы в виде словаря (см ниже)\n",
    "\n",
    "## МОДЕЛИ RIDGE И ELASTICNET ПРОСТО ДЛЯ ПРИМЕРА вы будете тестить другие при различных комбинациях параметров в param_grid (см train_model) просто заменяете на другие меняете param_grid и смотрите\n",
    "\n",
    "## ПОРЯДОК РАБОТЫ при первичном запуске напишите следующее:\n",
    "\n",
    "## air = AircraftModel() СОЗДАЕМ ЭКСЕМПЛЯР КЛАССА\n",
    "## df = air.get_train_dataset(X_train, y_train) генерируем train_data только единственный раз при обучении! далее не используется\n",
    "## df = air.clear_data(df) чистим данные\n",
    "## air.train_model(df) обучаем и при этом в методе возвращаются метрики (очень удобно в виде словаря )\n",
    "## на данном этапе первичный запуск завершен модель обучена !\n",
    "\n",
    "## ПОРЯДОК РАБОТЫ ПРИ ЗАПУСКЕ НА НОВЫХ ДАННЫХ\n",
    "## ЗАГРУЖАЕМ ИХ X_test = pd.read_csv('X_test.csv',parse_dates=['reportts'])\n",
    "## predict = air.predict(X_test) \n",
    "## И ВСЕ! В PREDICT БУДЕТ СЛОВАРЬ С ПРЕДСКАЗАНИЯМИ (air- эксемпляр класса создан ранее )\n",
    "\n",
    "\n"
   ]
  },
  {
   "cell_type": "code",
   "execution_count": 2,
   "id": "3514cacf",
   "metadata": {},
   "outputs": [],
   "source": [
    "X_train = pd.read_csv('X_train.csv', parse_dates=['reportts'])\n"
   ]
  },
  {
   "cell_type": "code",
   "execution_count": 3,
   "id": "10d14349",
   "metadata": {},
   "outputs": [],
   "source": [
    "y_train = pd.read_csv('y_train.csv', parse_dates=['reportts'])\n"
   ]
  },
  {
   "cell_type": "code",
   "execution_count": 4,
   "id": "0cff5f27",
   "metadata": {},
   "outputs": [],
   "source": [
    "X_test = pd.read_csv('X_test.csv',parse_dates=['reportts'])"
   ]
  },
  {
   "cell_type": "code",
   "execution_count": 5,
   "id": "375e5b6f",
   "metadata": {},
   "outputs": [],
   "source": [
    "class AircraftModel:\n",
    "   \n",
    "    def __init__(self):\n",
    "        self.models = {}\n",
    "        \n",
    "    def get_train_dataset(self, X_train, y_train) :\n",
    "        df = X_train.merge(y_train, on=['acnum', 'pos', 'reportts'])\n",
    "        cols = ['egt', 'n1a', 'n2a', 'nf', 'ff', 'mn', 't2', 'tat', 'oat', 'alt',\n",
    "                'p2e','wai', 'nai', 'prv', 'hpv', 'xf', 'acnum', 'egtm'] \n",
    "        dataset = df[cols]\n",
    "        return dataset \n",
    "    \n",
    "    \n",
    "    def get_dataset(self, X_test):\n",
    "        cols = ['egt', 'n1a', 'n2a', 'nf', 'ff', 'mn', 't2', 'tat', 'oat', 'alt',\n",
    "                'p2e','wai', 'nai', 'prv', 'hpv', 'xf', 'acnum'] \n",
    "        dataset = df[cols]\n",
    "        return dataset\n",
    "    def train_model(self, df):\n",
    "        metrics = {}\n",
    "        for acnum in df['acnum'].unique():\n",
    "            model_df = df[df['acnum'] == acnum] \n",
    "            valid_data = model_df.drop('acnum', axis=1) \n",
    "            X_train, X_test, y_train, y_test = train_test_split(valid_data.drop(['egtm'], axis=1), valid_data['egtm'], test_size=0.25) \n",
    "            \n",
    "            if acnum == 'VQ-BGU': \n",
    "                model = Ridge() \n",
    "                param_grid = {'alpha': [0.01, 0.1, 1.0, 10.0, 100.0]} \n",
    "                grid_model = GridSearchCV(estimator=model, param_grid=param_grid, \n",
    "                                          scoring='neg_mean_squared_error', cv=5, error_score='raise') \n",
    "                grid_model.fit(X_train, y_train) \n",
    "                self.models[acnum] = grid_model.best_estimator_ \n",
    "                \n",
    "            elif acnum == 'VQ-BDU':\n",
    "                model = ElasticNet() \n",
    "                param_grid = {'alpha': [0.1, 1, 5, 10, 50, 100], 'l1_ratio': [.1, .5, .7, .9, .95, .99, 1]} \n",
    "                grid_model = GridSearchCV(estimator=model, param_grid=param_grid, \n",
    "                                          scoring='neg_mean_squared_error', cv=5, error_score='raise') \n",
    "                grid_model.fit(X_train, y_train) \n",
    "                self.models[acnum] = grid_model.best_estimator_ \n",
    "\n",
    "            else: \n",
    "                raise ValueError(f\"No such aircraft{acnum}\") \n",
    "            \n",
    "            predictions = self.models[acnum].predict(X_test)\n",
    "            mae = mean_absolute_error(y_test, predictions)\n",
    "            rmse = np.sqrt(mean_squared_error(y_test, predictions))\n",
    "            mape_score = mean_absolute_percentage_error(y_test, predictions)\n",
    "            r2score = r2_score(y_test, predictions)\n",
    "\n",
    "            metrics[acnum] = {'MAE': mae, 'RMSE': rmse, 'MAPE': mape_score, 'R2 Score': r2score}\n",
    "\n",
    "        return metrics\n",
    "    \n",
    "    def predict(self, df): \n",
    "        df_prepared = self.get_dataset(df)\n",
    "        df_cleaned = self.clear_data(df_prepared)\n",
    "        \n",
    "        results = {}\n",
    "        for acnum in df_prepared['acnum'].unique():\n",
    "            model = self.models.get(acnum)\n",
    "            if model:\n",
    "                X_test = df_prepared[df_prepared['acnum'] == acnum].drop('acnum', axis=1)\n",
    "                predictions = model.predict(X_test)\n",
    "                results[acnum] = predictions\n",
    "            else:\n",
    "                raise ValueError(f\"No predictions stored for aircraft model {acnum}\")\n",
    "        return results\n",
    "    def percent_missing(self, df):\n",
    "        percent_nan = (df.isnull().sum() / len(df)) * 100\n",
    "        return percent_nan[percent_nan > 0].sort_values()\n",
    "\n",
    "    def clear_data(self,df):\n",
    "        percent_miss = self.percent_missing(df)\n",
    "        columns_to_drop = percent_miss[percent_miss > 95].index\n",
    "        df = df.drop(columns=columns_to_drop)\n",
    "        columns_to_fill = percent_miss[(percent_miss > 0) & (percent_miss <= 5)].index\n",
    "        for column in columns_to_fill:\n",
    "            df[column].fillna(df[column].median(), inplace=True)\n",
    "\n",
    "        return df\n",
    "\n",
    "        \n",
    "        \n",
    "#         df_encoded = pd.get_dummies(df, columns=['acnum'])\n",
    "        \n",
    "         "
   ]
  },
  {
   "cell_type": "code",
   "execution_count": 6,
   "id": "ea9651e4",
   "metadata": {},
   "outputs": [],
   "source": [
    "air = AircraftModel()"
   ]
  },
  {
   "cell_type": "code",
   "execution_count": 7,
   "id": "761d7c40",
   "metadata": {},
   "outputs": [],
   "source": [
    "df = air.get_train_dataset(X_train, y_train)"
   ]
  },
  {
   "cell_type": "code",
   "execution_count": 8,
   "id": "34ec89d9",
   "metadata": {},
   "outputs": [],
   "source": [
    "df = air.clear_data(df)"
   ]
  },
  {
   "cell_type": "code",
   "execution_count": 9,
   "id": "518e24b8",
   "metadata": {},
   "outputs": [
    {
     "name": "stderr",
     "output_type": "stream",
     "text": [
      "/home/fltww/anaconda3/envs/My_First_ML_Course/lib/python3.7/site-packages/sklearn/linear_model/_coordinate_descent.py:648: ConvergenceWarning: Objective did not converge. You might want to increase the number of iterations, check the scale of the features or consider increasing regularisation. Duality gap: 5.659e+00, tolerance: 3.874e+00\n",
      "  coef_, l1_reg, l2_reg, X, y, max_iter, tol, rng, random, positive\n",
      "/home/fltww/anaconda3/envs/My_First_ML_Course/lib/python3.7/site-packages/sklearn/linear_model/_coordinate_descent.py:648: ConvergenceWarning: Objective did not converge. You might want to increase the number of iterations, check the scale of the features or consider increasing regularisation. Duality gap: 9.444e+00, tolerance: 3.905e+00\n",
      "  coef_, l1_reg, l2_reg, X, y, max_iter, tol, rng, random, positive\n",
      "/home/fltww/anaconda3/envs/My_First_ML_Course/lib/python3.7/site-packages/sklearn/linear_model/_coordinate_descent.py:648: ConvergenceWarning: Objective did not converge. You might want to increase the number of iterations, check the scale of the features or consider increasing regularisation. Duality gap: 9.505e+00, tolerance: 3.918e+00\n",
      "  coef_, l1_reg, l2_reg, X, y, max_iter, tol, rng, random, positive\n",
      "/home/fltww/anaconda3/envs/My_First_ML_Course/lib/python3.7/site-packages/sklearn/linear_model/_coordinate_descent.py:648: ConvergenceWarning: Objective did not converge. You might want to increase the number of iterations, check the scale of the features or consider increasing regularisation. Duality gap: 1.154e+01, tolerance: 3.935e+00\n",
      "  coef_, l1_reg, l2_reg, X, y, max_iter, tol, rng, random, positive\n",
      "/home/fltww/anaconda3/envs/My_First_ML_Course/lib/python3.7/site-packages/sklearn/linear_model/_coordinate_descent.py:648: ConvergenceWarning: Objective did not converge. You might want to increase the number of iterations, check the scale of the features or consider increasing regularisation. Duality gap: 7.762e+00, tolerance: 3.984e+00\n",
      "  coef_, l1_reg, l2_reg, X, y, max_iter, tol, rng, random, positive\n",
      "/home/fltww/anaconda3/envs/My_First_ML_Course/lib/python3.7/site-packages/sklearn/linear_model/_coordinate_descent.py:648: ConvergenceWarning: Objective did not converge. You might want to increase the number of iterations, check the scale of the features or consider increasing regularisation. Duality gap: 2.737e+02, tolerance: 3.874e+00\n",
      "  coef_, l1_reg, l2_reg, X, y, max_iter, tol, rng, random, positive\n",
      "/home/fltww/anaconda3/envs/My_First_ML_Course/lib/python3.7/site-packages/sklearn/linear_model/_coordinate_descent.py:648: ConvergenceWarning: Objective did not converge. You might want to increase the number of iterations, check the scale of the features or consider increasing regularisation. Duality gap: 3.087e+02, tolerance: 3.905e+00\n",
      "  coef_, l1_reg, l2_reg, X, y, max_iter, tol, rng, random, positive\n",
      "/home/fltww/anaconda3/envs/My_First_ML_Course/lib/python3.7/site-packages/sklearn/linear_model/_coordinate_descent.py:648: ConvergenceWarning: Objective did not converge. You might want to increase the number of iterations, check the scale of the features or consider increasing regularisation. Duality gap: 1.737e+02, tolerance: 3.918e+00\n",
      "  coef_, l1_reg, l2_reg, X, y, max_iter, tol, rng, random, positive\n",
      "/home/fltww/anaconda3/envs/My_First_ML_Course/lib/python3.7/site-packages/sklearn/linear_model/_coordinate_descent.py:648: ConvergenceWarning: Objective did not converge. You might want to increase the number of iterations, check the scale of the features or consider increasing regularisation. Duality gap: 1.470e+02, tolerance: 3.935e+00\n",
      "  coef_, l1_reg, l2_reg, X, y, max_iter, tol, rng, random, positive\n",
      "/home/fltww/anaconda3/envs/My_First_ML_Course/lib/python3.7/site-packages/sklearn/linear_model/_coordinate_descent.py:648: ConvergenceWarning: Objective did not converge. You might want to increase the number of iterations, check the scale of the features or consider increasing regularisation. Duality gap: 3.468e+02, tolerance: 3.984e+00\n",
      "  coef_, l1_reg, l2_reg, X, y, max_iter, tol, rng, random, positive\n",
      "/home/fltww/anaconda3/envs/My_First_ML_Course/lib/python3.7/site-packages/sklearn/linear_model/_coordinate_descent.py:648: ConvergenceWarning: Objective did not converge. You might want to increase the number of iterations, check the scale of the features or consider increasing regularisation. Duality gap: 2.104e+02, tolerance: 3.874e+00\n",
      "  coef_, l1_reg, l2_reg, X, y, max_iter, tol, rng, random, positive\n",
      "/home/fltww/anaconda3/envs/My_First_ML_Course/lib/python3.7/site-packages/sklearn/linear_model/_coordinate_descent.py:648: ConvergenceWarning: Objective did not converge. You might want to increase the number of iterations, check the scale of the features or consider increasing regularisation. Duality gap: 2.774e+02, tolerance: 3.905e+00\n",
      "  coef_, l1_reg, l2_reg, X, y, max_iter, tol, rng, random, positive\n",
      "/home/fltww/anaconda3/envs/My_First_ML_Course/lib/python3.7/site-packages/sklearn/linear_model/_coordinate_descent.py:648: ConvergenceWarning: Objective did not converge. You might want to increase the number of iterations, check the scale of the features or consider increasing regularisation. Duality gap: 1.392e+02, tolerance: 3.918e+00\n",
      "  coef_, l1_reg, l2_reg, X, y, max_iter, tol, rng, random, positive\n",
      "/home/fltww/anaconda3/envs/My_First_ML_Course/lib/python3.7/site-packages/sklearn/linear_model/_coordinate_descent.py:648: ConvergenceWarning: Objective did not converge. You might want to increase the number of iterations, check the scale of the features or consider increasing regularisation. Duality gap: 7.148e+01, tolerance: 3.935e+00\n",
      "  coef_, l1_reg, l2_reg, X, y, max_iter, tol, rng, random, positive\n",
      "/home/fltww/anaconda3/envs/My_First_ML_Course/lib/python3.7/site-packages/sklearn/linear_model/_coordinate_descent.py:648: ConvergenceWarning: Objective did not converge. You might want to increase the number of iterations, check the scale of the features or consider increasing regularisation. Duality gap: 2.892e+02, tolerance: 3.984e+00\n",
      "  coef_, l1_reg, l2_reg, X, y, max_iter, tol, rng, random, positive\n",
      "/home/fltww/anaconda3/envs/My_First_ML_Course/lib/python3.7/site-packages/sklearn/linear_model/_coordinate_descent.py:648: ConvergenceWarning: Objective did not converge. You might want to increase the number of iterations, check the scale of the features or consider increasing regularisation. Duality gap: 3.151e+02, tolerance: 3.874e+00\n",
      "  coef_, l1_reg, l2_reg, X, y, max_iter, tol, rng, random, positive\n",
      "/home/fltww/anaconda3/envs/My_First_ML_Course/lib/python3.7/site-packages/sklearn/linear_model/_coordinate_descent.py:648: ConvergenceWarning: Objective did not converge. You might want to increase the number of iterations, check the scale of the features or consider increasing regularisation. Duality gap: 2.776e+02, tolerance: 3.905e+00\n",
      "  coef_, l1_reg, l2_reg, X, y, max_iter, tol, rng, random, positive\n",
      "/home/fltww/anaconda3/envs/My_First_ML_Course/lib/python3.7/site-packages/sklearn/linear_model/_coordinate_descent.py:648: ConvergenceWarning: Objective did not converge. You might want to increase the number of iterations, check the scale of the features or consider increasing regularisation. Duality gap: 3.816e+02, tolerance: 3.918e+00\n",
      "  coef_, l1_reg, l2_reg, X, y, max_iter, tol, rng, random, positive\n",
      "/home/fltww/anaconda3/envs/My_First_ML_Course/lib/python3.7/site-packages/sklearn/linear_model/_coordinate_descent.py:648: ConvergenceWarning: Objective did not converge. You might want to increase the number of iterations, check the scale of the features or consider increasing regularisation. Duality gap: 5.067e+02, tolerance: 3.935e+00\n",
      "  coef_, l1_reg, l2_reg, X, y, max_iter, tol, rng, random, positive\n",
      "/home/fltww/anaconda3/envs/My_First_ML_Course/lib/python3.7/site-packages/sklearn/linear_model/_coordinate_descent.py:648: ConvergenceWarning: Objective did not converge. You might want to increase the number of iterations, check the scale of the features or consider increasing regularisation. Duality gap: 3.541e+02, tolerance: 3.984e+00\n",
      "  coef_, l1_reg, l2_reg, X, y, max_iter, tol, rng, random, positive\n",
      "/home/fltww/anaconda3/envs/My_First_ML_Course/lib/python3.7/site-packages/sklearn/linear_model/_coordinate_descent.py:648: ConvergenceWarning: Objective did not converge. You might want to increase the number of iterations, check the scale of the features or consider increasing regularisation. Duality gap: 6.558e+02, tolerance: 3.874e+00\n",
      "  coef_, l1_reg, l2_reg, X, y, max_iter, tol, rng, random, positive\n",
      "/home/fltww/anaconda3/envs/My_First_ML_Course/lib/python3.7/site-packages/sklearn/linear_model/_coordinate_descent.py:648: ConvergenceWarning: Objective did not converge. You might want to increase the number of iterations, check the scale of the features or consider increasing regularisation. Duality gap: 6.091e+02, tolerance: 3.905e+00\n",
      "  coef_, l1_reg, l2_reg, X, y, max_iter, tol, rng, random, positive\n",
      "/home/fltww/anaconda3/envs/My_First_ML_Course/lib/python3.7/site-packages/sklearn/linear_model/_coordinate_descent.py:648: ConvergenceWarning: Objective did not converge. You might want to increase the number of iterations, check the scale of the features or consider increasing regularisation. Duality gap: 7.692e+02, tolerance: 3.918e+00\n",
      "  coef_, l1_reg, l2_reg, X, y, max_iter, tol, rng, random, positive\n",
      "/home/fltww/anaconda3/envs/My_First_ML_Course/lib/python3.7/site-packages/sklearn/linear_model/_coordinate_descent.py:648: ConvergenceWarning: Objective did not converge. You might want to increase the number of iterations, check the scale of the features or consider increasing regularisation. Duality gap: 2.607e+02, tolerance: 3.935e+00\n",
      "  coef_, l1_reg, l2_reg, X, y, max_iter, tol, rng, random, positive\n",
      "/home/fltww/anaconda3/envs/My_First_ML_Course/lib/python3.7/site-packages/sklearn/linear_model/_coordinate_descent.py:648: ConvergenceWarning: Objective did not converge. You might want to increase the number of iterations, check the scale of the features or consider increasing regularisation. Duality gap: 7.308e+02, tolerance: 3.984e+00\n",
      "  coef_, l1_reg, l2_reg, X, y, max_iter, tol, rng, random, positive\n"
     ]
    },
    {
     "name": "stderr",
     "output_type": "stream",
     "text": [
      "/home/fltww/anaconda3/envs/My_First_ML_Course/lib/python3.7/site-packages/sklearn/linear_model/_coordinate_descent.py:648: ConvergenceWarning: Objective did not converge. You might want to increase the number of iterations, check the scale of the features or consider increasing regularisation. Duality gap: 4.418e+00, tolerance: 3.874e+00\n",
      "  coef_, l1_reg, l2_reg, X, y, max_iter, tol, rng, random, positive\n",
      "/home/fltww/anaconda3/envs/My_First_ML_Course/lib/python3.7/site-packages/sklearn/linear_model/_coordinate_descent.py:648: ConvergenceWarning: Objective did not converge. You might want to increase the number of iterations, check the scale of the features or consider increasing regularisation. Duality gap: 5.117e+00, tolerance: 3.905e+00\n",
      "  coef_, l1_reg, l2_reg, X, y, max_iter, tol, rng, random, positive\n",
      "/home/fltww/anaconda3/envs/My_First_ML_Course/lib/python3.7/site-packages/sklearn/linear_model/_coordinate_descent.py:648: ConvergenceWarning: Objective did not converge. You might want to increase the number of iterations, check the scale of the features or consider increasing regularisation. Duality gap: 6.340e+00, tolerance: 3.918e+00\n",
      "  coef_, l1_reg, l2_reg, X, y, max_iter, tol, rng, random, positive\n",
      "/home/fltww/anaconda3/envs/My_First_ML_Course/lib/python3.7/site-packages/sklearn/linear_model/_coordinate_descent.py:648: ConvergenceWarning: Objective did not converge. You might want to increase the number of iterations, check the scale of the features or consider increasing regularisation. Duality gap: 4.052e+00, tolerance: 3.935e+00\n",
      "  coef_, l1_reg, l2_reg, X, y, max_iter, tol, rng, random, positive\n",
      "/home/fltww/anaconda3/envs/My_First_ML_Course/lib/python3.7/site-packages/sklearn/linear_model/_coordinate_descent.py:648: ConvergenceWarning: Objective did not converge. You might want to increase the number of iterations, check the scale of the features or consider increasing regularisation. Duality gap: 5.682e+00, tolerance: 3.984e+00\n",
      "  coef_, l1_reg, l2_reg, X, y, max_iter, tol, rng, random, positive\n",
      "/home/fltww/anaconda3/envs/My_First_ML_Course/lib/python3.7/site-packages/sklearn/linear_model/_coordinate_descent.py:648: ConvergenceWarning: Objective did not converge. You might want to increase the number of iterations, check the scale of the features or consider increasing regularisation. Duality gap: 4.861e+00, tolerance: 3.984e+00\n",
      "  coef_, l1_reg, l2_reg, X, y, max_iter, tol, rng, random, positive\n",
      "/home/fltww/anaconda3/envs/My_First_ML_Course/lib/python3.7/site-packages/sklearn/linear_model/_coordinate_descent.py:648: ConvergenceWarning: Objective did not converge. You might want to increase the number of iterations, check the scale of the features or consider increasing regularisation. Duality gap: 9.292e+02, tolerance: 4.905e+00\n",
      "  coef_, l1_reg, l2_reg, X, y, max_iter, tol, rng, random, positive\n"
     ]
    },
    {
     "data": {
      "text/plain": [
       "{'VQ-BGU': {'MAE': 2.42841431386003,\n",
       "  'RMSE': 3.1162334640037592,\n",
       "  'MAPE': 0.07893718515656817,\n",
       "  'R2 Score': 0.7172604153236484},\n",
       " 'VQ-BDU': {'MAE': 2.3639113967005656,\n",
       "  'RMSE': 3.0299368371958497,\n",
       "  'MAPE': 0.09657824410859532,\n",
       "  'R2 Score': 0.7989737227540729}}"
      ]
     },
     "execution_count": 9,
     "metadata": {},
     "output_type": "execute_result"
    }
   ],
   "source": [
    "air.train_model(df)"
   ]
  },
  {
   "cell_type": "code",
   "execution_count": 21,
   "id": "2dff0a46",
   "metadata": {},
   "outputs": [
    {
     "data": {
      "text/plain": [
       "{'VQ-BGU': Ridge(alpha=0.01), 'VQ-BDU': ElasticNet(alpha=0.1, l1_ratio=1)}"
      ]
     },
     "execution_count": 21,
     "metadata": {},
     "output_type": "execute_result"
    }
   ],
   "source": [
    "air.models"
   ]
  },
  {
   "cell_type": "code",
   "execution_count": 10,
   "id": "e72348fb",
   "metadata": {},
   "outputs": [],
   "source": [
    "predict = air.predict(X_test)"
   ]
  },
  {
   "cell_type": "code",
   "execution_count": 11,
   "id": "8bcbcfd4",
   "metadata": {},
   "outputs": [
    {
     "data": {
      "text/plain": [
       "{'VQ-BGU': array([32.43139628, 32.76746162, 36.26197797, ..., 24.73218687,\n",
       "        25.72675043, 25.21857952]),\n",
       " 'VQ-BDU': array([39.20688323, 39.31591848, 38.02108171, ..., 20.27301322,\n",
       "        22.16330675, 23.62776299])}"
      ]
     },
     "execution_count": 11,
     "metadata": {},
     "output_type": "execute_result"
    }
   ],
   "source": [
    "predict"
   ]
  },
  {
   "cell_type": "markdown",
   "id": "4c1f4565",
   "metadata": {},
   "source": [
    "# ЕСЛИ ЕСТЬ КОРРИКТИРОВКИ ИЛИ ПРЕДЛОЖЕНИЯ пишем меняем не стесняемся "
   ]
  }
 ],
 "metadata": {
  "kernelspec": {
   "display_name": "Python 3 (ipykernel)",
   "language": "python",
   "name": "python3"
  },
  "language_info": {
   "codemirror_mode": {
    "name": "ipython",
    "version": 3
   },
   "file_extension": ".py",
   "mimetype": "text/x-python",
   "name": "python",
   "nbconvert_exporter": "python",
   "pygments_lexer": "ipython3",
   "version": "3.7.7"
  }
 },
 "nbformat": 4,
 "nbformat_minor": 5
}
